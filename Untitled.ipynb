{
  "metadata": {
    "language_info": {
      "codemirror_mode": {
        "name": "python",
        "version": 3
      },
      "file_extension": ".py",
      "mimetype": "text/x-python",
      "name": "python",
      "nbconvert_exporter": "python",
      "pygments_lexer": "ipython3",
      "version": "3.8"
    },
    "kernelspec": {
      "name": "python",
      "display_name": "Python (Pyodide)",
      "language": "python"
    }
  },
  "nbformat_minor": 4,
  "nbformat": 4,
  "cells": [
    {
      "cell_type": "code",
      "source": "alphabet = 'abcdefghijklmnopqrstuvwxyz'\n\ndef decrypt(encrypted, key):\n  trimmed = key.replace(' ', '')\n  lookup = {}\n  for i in range(0, len(trimmed)):\n    lookup[alphabet[i]] = trimmed[i]\n\n  decrypted = ''\n  for letter in encrypted:\n    if (alphabet.find(letter) >= 0):\n      decrypted += lookup[letter]\n    else:\n      decrypted += letter\n  return decrypted\n\ndef encrypt(plaintext, key):\n  trimmed = key.replace(' ', '')\n  lookup = {}\n  for i in range(0, len(trimmed)):\n    lookup[trimmed[i]] = alphabet[i]\n\n  encrypted = ''\n  for letter in plaintext:\n    if (alphabet.find(letter) >= 0):\n      encrypted += lookup[letter]\n    else:\n      encrypted += letter\n  return encrypted",
      "metadata": {
        "trusted": true
      },
      "execution_count": 1,
      "outputs": []
    },
    {
      "cell_type": "code",
      "source": "key = 'make them see your second skull'\nplaintext = 'snake'",
      "metadata": {
        "trusted": true
      },
      "execution_count": 2,
      "outputs": []
    },
    {
      "cell_type": "code",
      "source": "encrypted = encrypt(plaintext, key)\ndecrypted = decrypt(encrypted, key)\nprint('encrypted = ' + encrypted)\nprint('decrypted = ' + decrypted)",
      "metadata": {
        "trusted": true
      },
      "execution_count": 3,
      "outputs": [
        {
          "name": "stdout",
          "text": "encrypted = vtbwq\ndecrypted = snake\n",
          "output_type": "stream"
        }
      ]
    }
  ]
}